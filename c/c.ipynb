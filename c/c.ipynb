{
  "cells": [
    {
      "cell_type": "markdown",
      "id": "c3028525",
      "metadata": {
        "id": "c3028525"
      },
      "source": [
        "### Obtain X_train, X_test, y_train, y_test using the preprocessing technique of your choice and implement the following code"
      ]
    },
    {
      "cell_type": "code",
      "execution_count": null,
      "id": "35970db1",
      "metadata": {
        "id": "35970db1"
      },
      "outputs": [],
      "source": [
        "import os\n",
        "import cv2\n",
        "import numpy as np\n",
        "from skimage.io import imread, imshow\n",
        "from skimage.transform import resize"
      ]
    },
    {
      "cell_type": "code",
      "execution_count": null,
      "id": "e3b8f5ef",
      "metadata": {
        "id": "e3b8f5ef",
        "outputId": "1c6b02c8-1dc2-41bd-baef-832d96de82c1"
      },
      "outputs": [
        {
          "name": "stdout",
          "output_type": "stream",
          "text": [
            "Apple Braeburn done\n",
            "Apple Crimson Snow done\n",
            "Apple Golden 1 done\n",
            "Apple Golden 2 done\n",
            "Apple Golden 3 done\n",
            "Apple Granny Smith done\n",
            "Apple Pink Lady done\n",
            "Apple Red 1 done\n",
            "Apple Red 2 done\n",
            "Apple Red 3 done\n",
            "Apple Red Delicious done\n",
            "Apple Red Yellow 1 done\n",
            "Apple Red Yellow 2 done\n",
            "Apricot done\n",
            "Avocado done\n",
            "Avocado ripe done\n",
            "Banana done\n",
            "Banana Lady Finger done\n",
            "Banana Red done\n",
            "Beetroot done\n",
            "Blueberry done\n",
            "Cactus fruit done\n",
            "Cantaloupe 1 done\n",
            "Cantaloupe 2 done\n",
            "Carambula done\n",
            "Cauliflower done\n",
            "Cherry 1 done\n",
            "Cherry 2 done\n",
            "Cherry Rainier done\n",
            "Cherry Wax Black done\n",
            "Cherry Wax Red done\n",
            "Cherry Wax Yellow done\n",
            "Chestnut done\n",
            "Clementine done\n",
            "Cocos done\n",
            "Corn done\n",
            "Corn Husk done\n",
            "Cucumber Ripe done\n",
            "Cucumber Ripe 2 done\n",
            "Dates done\n",
            "Eggplant done\n",
            "Fig done\n",
            "Ginger Root done\n",
            "Granadilla done\n",
            "Grape Blue done\n",
            "Grape Pink done\n",
            "Grape White done\n",
            "Grape White 2 done\n",
            "Grape White 3 done\n",
            "Grape White 4 done\n",
            "Grapefruit Pink done\n",
            "Grapefruit White done\n",
            "Guava done\n",
            "Hazelnut done\n",
            "Huckleberry done\n",
            "Kaki done\n",
            "Kiwi done\n",
            "Kohlrabi done\n",
            "Kumquats done\n",
            "Lemon done\n",
            "Lemon Meyer done\n",
            "Limes done\n",
            "Lychee done\n",
            "Mandarine done\n",
            "Mango done\n",
            "Mango Red done\n",
            "Mangostan done\n",
            "Maracuja done\n",
            "Melon Piel de Sapo done\n",
            "Mulberry done\n",
            "Nectarine done\n",
            "Nectarine Flat done\n",
            "Nut Forest done\n",
            "Nut Pecan done\n",
            "Onion Red done\n",
            "Onion Red Peeled done\n",
            "Onion White done\n",
            "Orange done\n",
            "Papaya done\n",
            "Passion Fruit done\n",
            "Peach done\n",
            "Peach 2 done\n",
            "Peach Flat done\n",
            "Pear done\n",
            "Pear 2 done\n",
            "Pear Abate done\n",
            "Pear Forelle done\n",
            "Pear Kaiser done\n",
            "Pear Monster done\n",
            "Pear Red done\n",
            "Pear Stone done\n",
            "Pear Williams done\n",
            "Pepino done\n",
            "Pepper Green done\n",
            "Pepper Orange done\n",
            "Pepper Red done\n",
            "Pepper Yellow done\n",
            "Physalis done\n",
            "Physalis with Husk done\n",
            "Pineapple done\n",
            "Pineapple Mini done\n",
            "Pitahaya Red done\n",
            "Plum done\n",
            "Plum 2 done\n",
            "Plum 3 done\n",
            "Pomegranate done\n",
            "Pomelo Sweetie done\n",
            "Potato Red done\n",
            "Potato Red Washed done\n",
            "Potato Sweet done\n",
            "Potato White done\n",
            "Quince done\n",
            "Rambutan done\n",
            "Raspberry done\n",
            "Redcurrant done\n",
            "Salak done\n",
            "Strawberry done\n",
            "Strawberry Wedge done\n",
            "Tamarillo done\n",
            "Tangelo done\n",
            "Tomato 1 done\n",
            "Tomato 2 done\n",
            "Tomato 3 done\n",
            "Tomato 4 done\n",
            "Tomato Cherry Red done\n",
            "Tomato Heart done\n",
            "Tomato Maroon done\n",
            "Tomato not Ripened done\n",
            "Tomato Yellow done\n",
            "Walnut done\n",
            "Watermelon done\n"
          ]
        }
      ],
      "source": [
        "# using this part we find x_train and y_train \n",
        "\n",
        "x_train = []\n",
        "y_train = []\n",
        "train = \"Training\"\n",
        "classes = os.listdir(train) \n",
        "for i in range(len(classes)):\n",
        "    for entry in os.listdir(f'{train}\\\\{classes[i]}'):\n",
        "        fruit_n =imread(f'{train}\\\\{classes[i]}\\\\{entry}')\n",
        "        x_train.append(fruit_n)\n",
        "        y_train.append(i)\n",
        "x_train = np.array(x_train)\n",
        "y_train = np.array(y_train)\n",
        "\n",
        "print(x_train)\n",
        "print(y_train)"
      ]
    },
    {
      "cell_type": "code",
      "execution_count": null,
      "id": "ca8aa2c7",
      "metadata": {
        "id": "ca8aa2c7"
      },
      "outputs": [],
      "source": [
        "from sklearn.model_selection import train_test_split # using this we split the dataset in a ration of 75:25 (train:test)"
      ]
    },
    {
      "cell_type": "code",
      "execution_count": null,
      "id": "8faee58f",
      "metadata": {
        "id": "8faee58f"
      },
      "outputs": [],
      "source": [
        "x_training,x_testing,y_training,y_testing=train_test_split(x_train, y_train, test_size=0.1) \n",
        "x_training,x_validation,y_training,y_validation=train_test_split(x_training, y_training, test_size=0.1)"
      ]
    },
    {
      "cell_type": "code",
      "execution_count": null,
      "id": "7523a862",
      "metadata": {
        "colab": {
          "base_uri": "https://localhost:8080/"
        },
        "id": "7523a862",
        "outputId": "db25b3db-efb2-4dea-dcbe-2836faa65dc8"
      },
      "outputs": [
        {
          "output_type": "stream",
          "name": "stdout",
          "text": [
            "Requirement already satisfied: tensorflow in /usr/local/lib/python3.7/dist-packages (2.7.0)\n",
            "Requirement already satisfied: absl-py>=0.4.0 in /usr/local/lib/python3.7/dist-packages (from tensorflow) (1.0.0)\n",
            "Requirement already satisfied: gast<0.5.0,>=0.2.1 in /usr/local/lib/python3.7/dist-packages (from tensorflow) (0.4.0)\n",
            "Requirement already satisfied: astunparse>=1.6.0 in /usr/local/lib/python3.7/dist-packages (from tensorflow) (1.6.3)\n",
            "Requirement already satisfied: typing-extensions>=3.6.6 in /usr/local/lib/python3.7/dist-packages (from tensorflow) (3.10.0.2)\n",
            "Requirement already satisfied: libclang>=9.0.1 in /usr/local/lib/python3.7/dist-packages (from tensorflow) (13.0.0)\n",
            "Requirement already satisfied: wheel<1.0,>=0.32.0 in /usr/local/lib/python3.7/dist-packages (from tensorflow) (0.37.1)\n",
            "Requirement already satisfied: wrapt>=1.11.0 in /usr/local/lib/python3.7/dist-packages (from tensorflow) (1.13.3)\n",
            "Requirement already satisfied: termcolor>=1.1.0 in /usr/local/lib/python3.7/dist-packages (from tensorflow) (1.1.0)\n",
            "Requirement already satisfied: protobuf>=3.9.2 in /usr/local/lib/python3.7/dist-packages (from tensorflow) (3.17.3)\n",
            "Requirement already satisfied: tensorboard~=2.6 in /usr/local/lib/python3.7/dist-packages (from tensorflow) (2.7.0)\n",
            "Requirement already satisfied: h5py>=2.9.0 in /usr/local/lib/python3.7/dist-packages (from tensorflow) (3.1.0)\n",
            "Requirement already satisfied: google-pasta>=0.1.1 in /usr/local/lib/python3.7/dist-packages (from tensorflow) (0.2.0)\n",
            "Requirement already satisfied: numpy>=1.14.5 in /usr/local/lib/python3.7/dist-packages (from tensorflow) (1.19.5)\n",
            "Requirement already satisfied: keras<2.8,>=2.7.0rc0 in /usr/local/lib/python3.7/dist-packages (from tensorflow) (2.7.0)\n",
            "Requirement already satisfied: flatbuffers<3.0,>=1.12 in /usr/local/lib/python3.7/dist-packages (from tensorflow) (2.0)\n",
            "Requirement already satisfied: tensorflow-estimator<2.8,~=2.7.0rc0 in /usr/local/lib/python3.7/dist-packages (from tensorflow) (2.7.0)\n",
            "Requirement already satisfied: keras-preprocessing>=1.1.1 in /usr/local/lib/python3.7/dist-packages (from tensorflow) (1.1.2)\n",
            "Requirement already satisfied: six>=1.12.0 in /usr/local/lib/python3.7/dist-packages (from tensorflow) (1.15.0)\n",
            "Requirement already satisfied: tensorflow-io-gcs-filesystem>=0.21.0 in /usr/local/lib/python3.7/dist-packages (from tensorflow) (0.24.0)\n",
            "Requirement already satisfied: grpcio<2.0,>=1.24.3 in /usr/local/lib/python3.7/dist-packages (from tensorflow) (1.43.0)\n",
            "Requirement already satisfied: opt-einsum>=2.3.2 in /usr/local/lib/python3.7/dist-packages (from tensorflow) (3.3.0)\n",
            "Requirement already satisfied: cached-property in /usr/local/lib/python3.7/dist-packages (from h5py>=2.9.0->tensorflow) (1.5.2)\n",
            "Requirement already satisfied: google-auth-oauthlib<0.5,>=0.4.1 in /usr/local/lib/python3.7/dist-packages (from tensorboard~=2.6->tensorflow) (0.4.6)\n",
            "Requirement already satisfied: werkzeug>=0.11.15 in /usr/local/lib/python3.7/dist-packages (from tensorboard~=2.6->tensorflow) (1.0.1)\n",
            "Requirement already satisfied: setuptools>=41.0.0 in /usr/local/lib/python3.7/dist-packages (from tensorboard~=2.6->tensorflow) (57.4.0)\n",
            "Requirement already satisfied: tensorboard-data-server<0.7.0,>=0.6.0 in /usr/local/lib/python3.7/dist-packages (from tensorboard~=2.6->tensorflow) (0.6.1)\n",
            "Requirement already satisfied: tensorboard-plugin-wit>=1.6.0 in /usr/local/lib/python3.7/dist-packages (from tensorboard~=2.6->tensorflow) (1.8.1)\n",
            "Requirement already satisfied: google-auth<3,>=1.6.3 in /usr/local/lib/python3.7/dist-packages (from tensorboard~=2.6->tensorflow) (1.35.0)\n",
            "Requirement already satisfied: requests<3,>=2.21.0 in /usr/local/lib/python3.7/dist-packages (from tensorboard~=2.6->tensorflow) (2.23.0)\n",
            "Requirement already satisfied: markdown>=2.6.8 in /usr/local/lib/python3.7/dist-packages (from tensorboard~=2.6->tensorflow) (3.3.6)\n",
            "Requirement already satisfied: rsa<5,>=3.1.4 in /usr/local/lib/python3.7/dist-packages (from google-auth<3,>=1.6.3->tensorboard~=2.6->tensorflow) (4.8)\n",
            "Requirement already satisfied: pyasn1-modules>=0.2.1 in /usr/local/lib/python3.7/dist-packages (from google-auth<3,>=1.6.3->tensorboard~=2.6->tensorflow) (0.2.8)\n",
            "Requirement already satisfied: cachetools<5.0,>=2.0.0 in /usr/local/lib/python3.7/dist-packages (from google-auth<3,>=1.6.3->tensorboard~=2.6->tensorflow) (4.2.4)\n",
            "Requirement already satisfied: requests-oauthlib>=0.7.0 in /usr/local/lib/python3.7/dist-packages (from google-auth-oauthlib<0.5,>=0.4.1->tensorboard~=2.6->tensorflow) (1.3.1)\n",
            "Requirement already satisfied: importlib-metadata>=4.4 in /usr/local/lib/python3.7/dist-packages (from markdown>=2.6.8->tensorboard~=2.6->tensorflow) (4.10.1)\n",
            "Requirement already satisfied: zipp>=0.5 in /usr/local/lib/python3.7/dist-packages (from importlib-metadata>=4.4->markdown>=2.6.8->tensorboard~=2.6->tensorflow) (3.7.0)\n",
            "Requirement already satisfied: pyasn1<0.5.0,>=0.4.6 in /usr/local/lib/python3.7/dist-packages (from pyasn1-modules>=0.2.1->google-auth<3,>=1.6.3->tensorboard~=2.6->tensorflow) (0.4.8)\n",
            "Requirement already satisfied: urllib3!=1.25.0,!=1.25.1,<1.26,>=1.21.1 in /usr/local/lib/python3.7/dist-packages (from requests<3,>=2.21.0->tensorboard~=2.6->tensorflow) (1.24.3)\n",
            "Requirement already satisfied: idna<3,>=2.5 in /usr/local/lib/python3.7/dist-packages (from requests<3,>=2.21.0->tensorboard~=2.6->tensorflow) (2.10)\n",
            "Requirement already satisfied: chardet<4,>=3.0.2 in /usr/local/lib/python3.7/dist-packages (from requests<3,>=2.21.0->tensorboard~=2.6->tensorflow) (3.0.4)\n",
            "Requirement already satisfied: certifi>=2017.4.17 in /usr/local/lib/python3.7/dist-packages (from requests<3,>=2.21.0->tensorboard~=2.6->tensorflow) (2021.10.8)\n",
            "Requirement already satisfied: oauthlib>=3.0.0 in /usr/local/lib/python3.7/dist-packages (from requests-oauthlib>=0.7.0->google-auth-oauthlib<0.5,>=0.4.1->tensorboard~=2.6->tensorflow) (3.2.0)\n"
          ]
        }
      ],
      "source": [
        "pip install tensorflow"
      ]
    },
    {
      "cell_type": "code",
      "execution_count": null,
      "id": "b9360960",
      "metadata": {
        "id": "b9360960"
      },
      "outputs": [],
      "source": [
        "# Importing necessary libraries\n",
        "import tensorflow \n",
        "from tensorflow import keras\n",
        "from tensorflow.keras.optimizers import Adam"
      ]
    },
    {
      "cell_type": "code",
      "execution_count": null,
      "id": "b1c22221",
      "metadata": {
        "id": "b1c22221",
        "outputId": "92de82fe-9ff6-41fd-80af-6485cf589be1"
      },
      "outputs": [
        {
          "data": {
            "text/plain": [
              "(54829, 100, 100, 3)"
            ]
          },
          "execution_count": 13,
          "metadata": {},
          "output_type": "execute_result"
        }
      ],
      "source": [
        "x_training.shape"
      ]
    },
    {
      "cell_type": "code",
      "execution_count": null,
      "id": "c72b5e6b",
      "metadata": {
        "id": "c72b5e6b"
      },
      "outputs": [],
      "source": [
        "import cv2"
      ]
    },
    {
      "cell_type": "code",
      "execution_count": null,
      "id": "226c4c82",
      "metadata": {
        "id": "226c4c82"
      },
      "outputs": [],
      "source": [
        "def fitting(in_image):\n",
        "    in_image=cv2.cvtColor(in_image,cv2.COLOR_BGR2GRAY)\n",
        "    in_image=grayscale(in_image)\n",
        "    in_image=cv2.resize(in_image, (32,32))\n",
        "    return in_image"
      ]
    },
    {
      "cell_type": "code",
      "execution_count": null,
      "id": "19de0c12",
      "metadata": {
        "id": "19de0c12"
      },
      "outputs": [],
      "source": [
        "training_data=np.array(list(map(fitting,x_training)))"
      ]
    },
    {
      "cell_type": "code",
      "execution_count": null,
      "id": "40b071d0",
      "metadata": {
        "id": "40b071d0"
      },
      "outputs": [],
      "source": [
        "training_data = []\n",
        "for data in x_training:\n",
        "    new_im = cv2.cvtColor(data,cv2.COLOR_BGR2GRAY)\n",
        "    new_im = cv2.resize(data, (32,32))\n",
        "    training_data.append(new_im)\n",
        "training_data = np.array(training_data)"
      ]
    },
    {
      "cell_type": "code",
      "execution_count": null,
      "id": "38f11bda",
      "metadata": {
        "id": "38f11bda",
        "outputId": "3570734b-d603-449d-aad1-ee9ce415d850"
      },
      "outputs": [
        {
          "data": {
            "text/plain": [
              "(54829, 32, 32)"
            ]
          },
          "execution_count": 26,
          "metadata": {},
          "output_type": "execute_result"
        }
      ],
      "source": [
        "training_data.shape"
      ]
    },
    {
      "cell_type": "code",
      "execution_count": null,
      "id": "6b2f52c3",
      "metadata": {
        "id": "6b2f52c3"
      },
      "outputs": [],
      "source": [
        "testing_data = np.array(list(map(preprocessing,x_testing)))"
      ]
    },
    {
      "cell_type": "code",
      "execution_count": null,
      "id": "6efb0ed6",
      "metadata": {
        "id": "6efb0ed6"
      },
      "outputs": [],
      "source": [
        "train_data = training_data.astype('float32')\n",
        "test_data = testing_data.astype('float32')"
      ]
    },
    {
      "cell_type": "code",
      "execution_count": null,
      "id": "2338be91",
      "metadata": {
        "id": "2338be91",
        "outputId": "5e46f0e1-98d0-459b-b4d1-7b84d9f7f635"
      },
      "outputs": [
        {
          "data": {
            "text/plain": [
              "(6770, 32, 32)"
            ]
          },
          "execution_count": 29,
          "metadata": {},
          "output_type": "execute_result"
        }
      ],
      "source": [
        "testing_data.shape"
      ]
    },
    {
      "cell_type": "code",
      "execution_count": null,
      "id": "c996cd8a",
      "metadata": {
        "id": "c996cd8a"
      },
      "outputs": [],
      "source": [
        "training_data=training_data.reshape(training_data.shape[0], training_data.shape[1], training_data.shape[2],1)\n",
        "testing_data=testing_data.reshape(testing_data.shape[0], testing_data.shape[1], testing_data.shape[2],1)"
      ]
    },
    {
      "cell_type": "code",
      "execution_count": null,
      "id": "4de1db90",
      "metadata": {
        "id": "4de1db90"
      },
      "outputs": [],
      "source": [
        "from tensorflow.keras.utils import to_categorical"
      ]
    },
    {
      "cell_type": "code",
      "execution_count": null,
      "id": "f21f7f75",
      "metadata": {
        "id": "f21f7f75",
        "outputId": "99f6c2cc-709b-4b4f-e09e-4b32f71a1be6"
      },
      "outputs": [
        {
          "data": {
            "text/plain": [
              "(54829,)"
            ]
          },
          "execution_count": 32,
          "metadata": {},
          "output_type": "execute_result"
        }
      ],
      "source": [
        "y_training.shape\n",
        "y_testing.shape"
      ]
    },
    {
      "cell_type": "code",
      "execution_count": null,
      "id": "320eb6ec",
      "metadata": {
        "id": "320eb6ec"
      },
      "outputs": [],
      "source": [
        "y_training = to_categorical(y_training, 131)\n",
        "y_testing = to_categorical(y_testing, 131)"
      ]
    },
    {
      "cell_type": "code",
      "execution_count": null,
      "id": "0b03314a",
      "metadata": {
        "id": "0b03314a",
        "outputId": "f32c18f1-89a9-48ff-fe1a-777df520a867"
      },
      "outputs": [
        {
          "data": {
            "text/plain": [
              "(6770, 131)"
            ]
          },
          "execution_count": 36,
          "metadata": {},
          "output_type": "execute_result"
        }
      ],
      "source": [
        "y_testing.shape"
      ]
    },
    {
      "cell_type": "code",
      "execution_count": null,
      "id": "607cbb26",
      "metadata": {
        "id": "607cbb26"
      },
      "outputs": [],
      "source": [
        "import keras\n",
        "import tensorflow"
      ]
    },
    {
      "cell_type": "code",
      "execution_count": null,
      "id": "5faac59f",
      "metadata": {
        "id": "5faac59f"
      },
      "outputs": [],
      "source": [
        "model_ann = keras.Sequential()\n",
        "model_ann.add(keras.layers.Dense(12, input_shape=(32,32,1), activation='relu'))\n",
        "model_ann.add(keras.layers.Dense(12, activation='relu'))\n",
        "model_ann.add(keras.layers.Flatten())\n",
        "model_ann.add(keras.layers.Dense(131, activation='softmax'))"
      ]
    },
    {
      "cell_type": "code",
      "execution_count": null,
      "id": "94368ec7",
      "metadata": {
        "id": "94368ec7",
        "outputId": "0e82a3b4-885e-464e-f673-4c3f306a05bc"
      },
      "outputs": [
        {
          "name": "stdout",
          "output_type": "stream",
          "text": [
            "Model: \"sequential_1\"\n",
            "_________________________________________________________________\n",
            "Layer (type)                 Output Shape              Param #   \n",
            "=================================================================\n",
            "dense_4 (Dense)              (None, 32, 32, 12)        24        \n",
            "_________________________________________________________________\n",
            "dense_5 (Dense)              (None, 32, 32, 12)        156       \n",
            "_________________________________________________________________\n",
            "flatten_1 (Flatten)          (None, 12288)             0         \n",
            "_________________________________________________________________\n",
            "dense_6 (Dense)              (None, 131)               1609859   \n",
            "=================================================================\n",
            "Total params: 1,610,039\n",
            "Trainable params: 1,610,039\n",
            "Non-trainable params: 0\n",
            "_________________________________________________________________\n"
          ]
        }
      ],
      "source": [
        "model_ann.summary()"
      ]
    },
    {
      "cell_type": "code",
      "execution_count": null,
      "id": "03d8f58d",
      "metadata": {
        "id": "03d8f58d"
      },
      "outputs": [],
      "source": [
        "model_ann.compile(optimizer=Adam(learning_rate = 0.01), loss='categorical_crossentropy', metrics=['accuracy'])"
      ]
    },
    {
      "cell_type": "code",
      "execution_count": null,
      "id": "04f443da",
      "metadata": {
        "id": "04f443da",
        "outputId": "4e50ad77-75aa-476b-d32a-1f8a7629387c"
      },
      "outputs": [
        {
          "name": "stdout",
          "output_type": "stream",
          "text": [
            "Epoch 1/8\n",
            "1714/1714 [==============================] - 29s 17ms/step - loss: 130.0385 - accuracy: 0.1602\n",
            "Epoch 2/8\n",
            "1714/1714 [==============================] - 29s 17ms/step - loss: 2.5092 - accuracy: 0.4404\n",
            "Epoch 3/8\n",
            "1714/1714 [==============================] - 29s 17ms/step - loss: 2.1000 - accuracy: 0.5227\n",
            "Epoch 4/8\n",
            "1714/1714 [==============================] - 28s 16ms/step - loss: 1.8747 - accuracy: 0.5698\n",
            "Epoch 5/8\n",
            "1714/1714 [==============================] - 29s 17ms/step - loss: 1.8944 - accuracy: 0.5890\n",
            "Epoch 6/8\n",
            "1714/1714 [==============================] - 29s 17ms/step - loss: 1.7173 - accuracy: 0.6009\n",
            "Epoch 7/8\n",
            "1714/1714 [==============================] - 29s 17ms/step - loss: 1.4671 - accuracy: 0.64520s - loss: 1.4672 - ac\n",
            "Epoch 8/8\n",
            "1714/1714 [==============================] - 30s 17ms/step - loss: 1.3343 - accuracy: 0.6708\n"
          ]
        }
      ],
      "source": [
        "history = model_ann.fit(training_data, y_training, epochs=13)"
      ]
    }
  ],
  "metadata": {
    "kernelspec": {
      "display_name": "Python 3 (ipykernel)",
      "language": "python",
      "name": "python3"
    },
    "language_info": {
      "codemirror_mode": {
        "name": "ipython",
        "version": 3
      },
      "file_extension": ".py",
      "mimetype": "text/x-python",
      "name": "python",
      "nbconvert_exporter": "python",
      "pygments_lexer": "ipython3",
      "version": "3.9.7"
    },
    "colab": {
      "name": "c.ipynb",
      "provenance": []
    }
  },
  "nbformat": 4,
  "nbformat_minor": 5
}
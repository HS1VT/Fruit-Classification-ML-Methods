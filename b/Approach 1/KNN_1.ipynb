{
  "cells": [
    {
      "cell_type": "code",
      "execution_count": 2,
      "metadata": {
        "id": "6hWR6BnOJS5Z"
      },
      "outputs": [],
      "source": [
        "import pandas as pd\n",
        "data_frame = pd.read_csv('Fruit_360.csv')\n",
        "frame = data_frame['name'].unique()\n",
        "fsize = data_frame.groupby('name',sort=False).size()"
      ]
    },
    {
      "cell_type": "code",
      "source": [
        "data_frame.describe()"
      ],
      "metadata": {
        "colab": {
          "base_uri": "https://localhost:8080/",
          "height": 300
        },
        "id": "FzMQP-H1Uu3j",
        "outputId": "f0edefb0-4750-46c9-d61c-e6b9096549ae"
      },
      "execution_count": 3,
      "outputs": [
        {
          "output_type": "execute_result",
          "data": {
            "text/html": [
              "\n",
              "  <div id=\"df-9dcc1bc8-69e0-42cf-955f-3f548a9e2232\">\n",
              "    <div class=\"colab-df-container\">\n",
              "      <div>\n",
              "<style scoped>\n",
              "    .dataframe tbody tr th:only-of-type {\n",
              "        vertical-align: middle;\n",
              "    }\n",
              "\n",
              "    .dataframe tbody tr th {\n",
              "        vertical-align: top;\n",
              "    }\n",
              "\n",
              "    .dataframe thead th {\n",
              "        text-align: right;\n",
              "    }\n",
              "</style>\n",
              "<table border=\"1\" class=\"dataframe\">\n",
              "  <thead>\n",
              "    <tr style=\"text-align: right;\">\n",
              "      <th></th>\n",
              "      <th>red</th>\n",
              "      <th>green</th>\n",
              "      <th>blue</th>\n",
              "    </tr>\n",
              "  </thead>\n",
              "  <tbody>\n",
              "    <tr>\n",
              "      <th>count</th>\n",
              "      <td>68430.000000</td>\n",
              "      <td>68430.000000</td>\n",
              "      <td>68430.000000</td>\n",
              "    </tr>\n",
              "    <tr>\n",
              "      <th>mean</th>\n",
              "      <td>128.672812</td>\n",
              "      <td>147.530359</td>\n",
              "      <td>174.409195</td>\n",
              "    </tr>\n",
              "    <tr>\n",
              "      <th>std</th>\n",
              "      <td>32.922878</td>\n",
              "      <td>36.826944</td>\n",
              "      <td>35.419838</td>\n",
              "    </tr>\n",
              "    <tr>\n",
              "      <th>min</th>\n",
              "      <td>59.682800</td>\n",
              "      <td>62.633200</td>\n",
              "      <td>71.061700</td>\n",
              "    </tr>\n",
              "    <tr>\n",
              "      <th>25%</th>\n",
              "      <td>101.609975</td>\n",
              "      <td>121.166175</td>\n",
              "      <td>153.726975</td>\n",
              "    </tr>\n",
              "    <tr>\n",
              "      <th>50%</th>\n",
              "      <td>127.331350</td>\n",
              "      <td>148.645100</td>\n",
              "      <td>175.787650</td>\n",
              "    </tr>\n",
              "    <tr>\n",
              "      <th>75%</th>\n",
              "      <td>151.768100</td>\n",
              "      <td>174.265350</td>\n",
              "      <td>199.934200</td>\n",
              "    </tr>\n",
              "    <tr>\n",
              "      <th>max</th>\n",
              "      <td>226.042500</td>\n",
              "      <td>238.038100</td>\n",
              "      <td>244.597000</td>\n",
              "    </tr>\n",
              "  </tbody>\n",
              "</table>\n",
              "</div>\n",
              "      <button class=\"colab-df-convert\" onclick=\"convertToInteractive('df-9dcc1bc8-69e0-42cf-955f-3f548a9e2232')\"\n",
              "              title=\"Convert this dataframe to an interactive table.\"\n",
              "              style=\"display:none;\">\n",
              "        \n",
              "  <svg xmlns=\"http://www.w3.org/2000/svg\" height=\"24px\"viewBox=\"0 0 24 24\"\n",
              "       width=\"24px\">\n",
              "    <path d=\"M0 0h24v24H0V0z\" fill=\"none\"/>\n",
              "    <path d=\"M18.56 5.44l.94 2.06.94-2.06 2.06-.94-2.06-.94-.94-2.06-.94 2.06-2.06.94zm-11 1L8.5 8.5l.94-2.06 2.06-.94-2.06-.94L8.5 2.5l-.94 2.06-2.06.94zm10 10l.94 2.06.94-2.06 2.06-.94-2.06-.94-.94-2.06-.94 2.06-2.06.94z\"/><path d=\"M17.41 7.96l-1.37-1.37c-.4-.4-.92-.59-1.43-.59-.52 0-1.04.2-1.43.59L10.3 9.45l-7.72 7.72c-.78.78-.78 2.05 0 2.83L4 21.41c.39.39.9.59 1.41.59.51 0 1.02-.2 1.41-.59l7.78-7.78 2.81-2.81c.8-.78.8-2.07 0-2.86zM5.41 20L4 18.59l7.72-7.72 1.47 1.35L5.41 20z\"/>\n",
              "  </svg>\n",
              "      </button>\n",
              "      \n",
              "  <style>\n",
              "    .colab-df-container {\n",
              "      display:flex;\n",
              "      flex-wrap:wrap;\n",
              "      gap: 12px;\n",
              "    }\n",
              "\n",
              "    .colab-df-convert {\n",
              "      background-color: #E8F0FE;\n",
              "      border: none;\n",
              "      border-radius: 50%;\n",
              "      cursor: pointer;\n",
              "      display: none;\n",
              "      fill: #1967D2;\n",
              "      height: 32px;\n",
              "      padding: 0 0 0 0;\n",
              "      width: 32px;\n",
              "    }\n",
              "\n",
              "    .colab-df-convert:hover {\n",
              "      background-color: #E2EBFA;\n",
              "      box-shadow: 0px 1px 2px rgba(60, 64, 67, 0.3), 0px 1px 3px 1px rgba(60, 64, 67, 0.15);\n",
              "      fill: #174EA6;\n",
              "    }\n",
              "\n",
              "    [theme=dark] .colab-df-convert {\n",
              "      background-color: #3B4455;\n",
              "      fill: #D2E3FC;\n",
              "    }\n",
              "\n",
              "    [theme=dark] .colab-df-convert:hover {\n",
              "      background-color: #434B5C;\n",
              "      box-shadow: 0px 1px 3px 1px rgba(0, 0, 0, 0.15);\n",
              "      filter: drop-shadow(0px 1px 2px rgba(0, 0, 0, 0.3));\n",
              "      fill: #FFFFFF;\n",
              "    }\n",
              "  </style>\n",
              "\n",
              "      <script>\n",
              "        const buttonEl =\n",
              "          document.querySelector('#df-9dcc1bc8-69e0-42cf-955f-3f548a9e2232 button.colab-df-convert');\n",
              "        buttonEl.style.display =\n",
              "          google.colab.kernel.accessAllowed ? 'block' : 'none';\n",
              "\n",
              "        async function convertToInteractive(key) {\n",
              "          const element = document.querySelector('#df-9dcc1bc8-69e0-42cf-955f-3f548a9e2232');\n",
              "          const dataTable =\n",
              "            await google.colab.kernel.invokeFunction('convertToInteractive',\n",
              "                                                     [key], {});\n",
              "          if (!dataTable) return;\n",
              "\n",
              "          const docLinkHtml = 'Like what you see? Visit the ' +\n",
              "            '<a target=\"_blank\" href=https://colab.research.google.com/notebooks/data_table.ipynb>data table notebook</a>'\n",
              "            + ' to learn more about interactive tables.';\n",
              "          element.innerHTML = '';\n",
              "          dataTable['output_type'] = 'display_data';\n",
              "          await google.colab.output.renderOutput(dataTable, element);\n",
              "          const docLink = document.createElement('div');\n",
              "          docLink.innerHTML = docLinkHtml;\n",
              "          element.appendChild(docLink);\n",
              "        }\n",
              "      </script>\n",
              "    </div>\n",
              "  </div>\n",
              "  "
            ],
            "text/plain": [
              "                red         green          blue\n",
              "count  68430.000000  68430.000000  68430.000000\n",
              "mean     128.672812    147.530359    174.409195\n",
              "std       32.922878     36.826944     35.419838\n",
              "min       59.682800     62.633200     71.061700\n",
              "25%      101.609975    121.166175    153.726975\n",
              "50%      127.331350    148.645100    175.787650\n",
              "75%      151.768100    174.265350    199.934200\n",
              "max      226.042500    238.038100    244.597000"
            ]
          },
          "metadata": {},
          "execution_count": 3
        }
      ]
    },
    {
      "cell_type": "code",
      "execution_count": 4,
      "metadata": {
        "id": "PG5o60eo_Yji",
        "colab": {
          "base_uri": "https://localhost:8080/",
          "height": 279
        },
        "outputId": "ad3f7ceb-7585-46d3-c6a5-f5c742b73bf1"
      },
      "outputs": [
        {
          "output_type": "display_data",
          "data": {
            "image/png": "[encoded data removed]",
            "text/plain": [
              "<Figure size 432x288 with 1 Axes>"
            ]
          },
          "metadata": {
            "needs_background": "light"
          }
        }
      ],
      "source": [
        "import matplotlib.pyplot as plt\n",
        "plt.bar(frame,fsize)\n",
        "plt.xlabel('Name of Fruit')\n",
        "plt.ylabel('Count of Fruits')\n",
        "plt.show()"
      ]
    },
    {
      "cell_type": "code",
      "source": [
        "from mpl_toolkits.mplot3d import axes3d # Library\n",
        "fig = plt.figure() # \n",
        "ax = fig.add_subplot(111,projection='3d') \n",
        "ax.scatter(data_frame['red'],data_frame['green'],data_frame['blue'])\n",
        "ax.set_xlabel('Red')\n",
        "ax.set_ylabel('Green')\n",
        "ax.set_zlabel('Blue')\n",
        "plt.show()"
      ],
      "metadata": {
        "colab": {
          "base_uri": "https://localhost:8080/",
          "height": 248
        },
        "id": "c-TIQhETPT9L",
        "outputId": "2ffc0056-a3b8-429e-b0cf-3903d8afacf4"
      },
      "execution_count": 5,
      "outputs": [
        {
          "output_type": "display_data",
          "data": {
            "image/png": "[encoded data removed]",
            "text/plain": [
              "<Figure size 432x288 with 1 Axes>"
            ]
          },
          "metadata": {
            "needs_background": "light"
          }
        }
      ]
    },
    {
      "cell_type": "code",
      "source": [
        "data_frame.head(3)"
      ],
      "metadata": {
        "colab": {
          "base_uri": "https://localhost:8080/",
          "height": 143
        },
        "id": "NeVcfK02U60L",
        "outputId": "ddbc33d9-3fa1-4e72-9e27-1814f9d99b7e"
      },
      "execution_count": 6,
      "outputs": [
        {
          "output_type": "execute_result",
          "data": {
            "text/html": [
              "\n",
              "  <div id=\"df-07492f05-0609-4754-84d9-fee2ac331ee3\">\n",
              "    <div class=\"colab-df-container\">\n",
              "      <div>\n",
              "<style scoped>\n",
              "    .dataframe tbody tr th:only-of-type {\n",
              "        vertical-align: middle;\n",
              "    }\n",
              "\n",
              "    .dataframe tbody tr th {\n",
              "        vertical-align: top;\n",
              "    }\n",
              "\n",
              "    .dataframe thead th {\n",
              "        text-align: right;\n",
              "    }\n",
              "</style>\n",
              "<table border=\"1\" class=\"dataframe\">\n",
              "  <thead>\n",
              "    <tr style=\"text-align: right;\">\n",
              "      <th></th>\n",
              "      <th>name</th>\n",
              "      <th>red</th>\n",
              "      <th>green</th>\n",
              "      <th>blue</th>\n",
              "    </tr>\n",
              "  </thead>\n",
              "  <tbody>\n",
              "    <tr>\n",
              "      <th>0</th>\n",
              "      <td>Apple Braeburn</td>\n",
              "      <td>92.5305</td>\n",
              "      <td>108.0211</td>\n",
              "      <td>159.9495</td>\n",
              "    </tr>\n",
              "    <tr>\n",
              "      <th>1</th>\n",
              "      <td>Apple Braeburn</td>\n",
              "      <td>82.2292</td>\n",
              "      <td>86.2439</td>\n",
              "      <td>145.3926</td>\n",
              "    </tr>\n",
              "    <tr>\n",
              "      <th>2</th>\n",
              "      <td>Apple Braeburn</td>\n",
              "      <td>82.5229</td>\n",
              "      <td>86.4172</td>\n",
              "      <td>145.5333</td>\n",
              "    </tr>\n",
              "  </tbody>\n",
              "</table>\n",
              "</div>\n",
              "      <button class=\"colab-df-convert\" onclick=\"convertToInteractive('df-07492f05-0609-4754-84d9-fee2ac331ee3')\"\n",
              "              title=\"Convert this dataframe to an interactive table.\"\n",
              "              style=\"display:none;\">\n",
              "        \n",
              "  <svg xmlns=\"http://www.w3.org/2000/svg\" height=\"24px\"viewBox=\"0 0 24 24\"\n",
              "       width=\"24px\">\n",
              "    <path d=\"M0 0h24v24H0V0z\" fill=\"none\"/>\n",
              "    <path d=\"M18.56 5.44l.94 2.06.94-2.06 2.06-.94-2.06-.94-.94-2.06-.94 2.06-2.06.94zm-11 1L8.5 8.5l.94-2.06 2.06-.94-2.06-.94L8.5 2.5l-.94 2.06-2.06.94zm10 10l.94 2.06.94-2.06 2.06-.94-2.06-.94-.94-2.06-.94 2.06-2.06.94z\"/><path d=\"M17.41 7.96l-1.37-1.37c-.4-.4-.92-.59-1.43-.59-.52 0-1.04.2-1.43.59L10.3 9.45l-7.72 7.72c-.78.78-.78 2.05 0 2.83L4 21.41c.39.39.9.59 1.41.59.51 0 1.02-.2 1.41-.59l7.78-7.78 2.81-2.81c.8-.78.8-2.07 0-2.86zM5.41 20L4 18.59l7.72-7.72 1.47 1.35L5.41 20z\"/>\n",
              "  </svg>\n",
              "      </button>\n",
              "      \n",
              "  <style>\n",
              "    .colab-df-container {\n",
              "      display:flex;\n",
              "      flex-wrap:wrap;\n",
              "      gap: 12px;\n",
              "    }\n",
              "\n",
              "    .colab-df-convert {\n",
              "      background-color: #E8F0FE;\n",
              "      border: none;\n",
              "      border-radius: 50%;\n",
              "      cursor: pointer;\n",
              "      display: none;\n",
              "      fill: #1967D2;\n",
              "      height: 32px;\n",
              "      padding: 0 0 0 0;\n",
              "      width: 32px;\n",
              "    }\n",
              "\n",
              "    .colab-df-convert:hover {\n",
              "      background-color: #E2EBFA;\n",
              "      box-shadow: 0px 1px 2px rgba(60, 64, 67, 0.3), 0px 1px 3px 1px rgba(60, 64, 67, 0.15);\n",
              "      fill: #174EA6;\n",
              "    }\n",
              "\n",
              "    [theme=dark] .colab-df-convert {\n",
              "      background-color: #3B4455;\n",
              "      fill: #D2E3FC;\n",
              "    }\n",
              "\n",
              "    [theme=dark] .colab-df-convert:hover {\n",
              "      background-color: #434B5C;\n",
              "      box-shadow: 0px 1px 3px 1px rgba(0, 0, 0, 0.15);\n",
              "      filter: drop-shadow(0px 1px 2px rgba(0, 0, 0, 0.3));\n",
              "      fill: #FFFFFF;\n",
              "    }\n",
              "  </style>\n",
              "\n",
              "      <script>\n",
              "        const buttonEl =\n",
              "          document.querySelector('#df-07492f05-0609-4754-84d9-fee2ac331ee3 button.colab-df-convert');\n",
              "        buttonEl.style.display =\n",
              "          google.colab.kernel.accessAllowed ? 'block' : 'none';\n",
              "\n",
              "        async function convertToInteractive(key) {\n",
              "          const element = document.querySelector('#df-07492f05-0609-4754-84d9-fee2ac331ee3');\n",
              "          const dataTable =\n",
              "            await google.colab.kernel.invokeFunction('convertToInteractive',\n",
              "                                                     [key], {});\n",
              "          if (!dataTable) return;\n",
              "\n",
              "          const docLinkHtml = 'Like what you see? Visit the ' +\n",
              "            '<a target=\"_blank\" href=https://colab.research.google.com/notebooks/data_table.ipynb>data table notebook</a>'\n",
              "            + ' to learn more about interactive tables.';\n",
              "          element.innerHTML = '';\n",
              "          dataTable['output_type'] = 'display_data';\n",
              "          await google.colab.output.renderOutput(dataTable, element);\n",
              "          const docLink = document.createElement('div');\n",
              "          docLink.innerHTML = docLinkHtml;\n",
              "          element.appendChild(docLink);\n",
              "        }\n",
              "      </script>\n",
              "    </div>\n",
              "  </div>\n",
              "  "
            ],
            "text/plain": [
              "             name      red     green      blue\n",
              "0  Apple Braeburn  92.5305  108.0211  159.9495\n",
              "1  Apple Braeburn  82.2292   86.2439  145.3926\n",
              "2  Apple Braeburn  82.5229   86.4172  145.5333"
            ]
          },
          "metadata": {},
          "execution_count": 6
        }
      ]
    },
    {
      "cell_type": "code",
      "source": [
        "x = data_frame.iloc[:,[1,2,3]].values\n",
        "y = data_frame.iloc[:,0].values\n",
        "\n",
        "from sklearn.model_selection import train_test_split\n",
        "x_train,x_test,y_train,y_test = train_test_split(x,y,random_state = 0)\n",
        "\n",
        "train_test_split\n",
        "\n",
        "print(x_train.shape)\n",
        "print(x_test.shape)# 75:25 split"
      ],
      "metadata": {
        "colab": {
          "base_uri": "https://localhost:8080/"
        },
        "id": "jfQS6SHqPcx8",
        "outputId": "f4fb2468-f704-4e78-fa3c-d2343624b8eb"
      },
      "execution_count": 7,
      "outputs": [
        {
          "output_type": "stream",
          "name": "stdout",
          "text": [
            "(51322, 3)\n",
            "(17108, 3)\n"
          ]
        }
      ]
    },
    {
      "cell_type": "code",
      "source": [
        "print(x)"
      ],
      "metadata": {
        "colab": {
          "base_uri": "https://localhost:8080/"
        },
        "id": "5GGrgJ6X3z18",
        "outputId": "bed05a00-5c28-4735-bacd-cc3e7eabdadb"
      },
      "execution_count": 8,
      "outputs": [
        {
          "output_type": "stream",
          "name": "stdout",
          "text": [
            "[[ 92.5305 108.0211 159.9495]\n",
            " [ 82.2292  86.2439 145.3926]\n",
            " [ 82.5229  86.4172 145.5333]\n",
            " ...\n",
            " [139.26   157.2364 150.3045]\n",
            " [149.5571 166.9277 157.7758]\n",
            " [169.2454 183.5774 176.2998]]\n"
          ]
        }
      ]
    },
    {
      "cell_type": "code",
      "source": [
        "from sklearn.preprocessing import MinMaxScaler # we normalize the data using this\n",
        "s = MinMaxScaler()\n",
        "x_train = s.fit_transform(x_train) \n",
        "x_test = s.transform(x_test) "
      ],
      "metadata": {
        "id": "flkJVQ1WPonE"
      },
      "execution_count": null,
      "outputs": []
    },
    {
      "cell_type": "code",
      "source": [
        "x_train"
      ],
      "metadata": {
        "colab": {
          "base_uri": "https://localhost:8080/"
        },
        "id": "xa5RWkDvbbbz",
        "outputId": "ac9ed369-c020-4d25-de3a-2644ca09c914"
      },
      "execution_count": null,
      "outputs": [
        {
          "output_type": "execute_result",
          "data": {
            "text/plain": [
              "array([[131.2586, 127.9845, 173.0862],\n",
              "       [111.5475, 136.3894, 165.8891],\n",
              "       [ 69.2794,  86.3541, 122.1106],\n",
              "       ...,\n",
              "       [184.2784, 196.3356, 210.1511],\n",
              "       [113.2541, 122.5589, 148.0415],\n",
              "       [134.5456, 158.5746, 153.517 ]])"
            ]
          },
          "metadata": {},
          "execution_count": 38
        }
      ]
    },
    {
      "cell_type": "code",
      "source": [
        "x_test"
      ],
      "metadata": {
        "colab": {
          "base_uri": "https://localhost:8080/"
        },
        "id": "7-AlWwm4bemS",
        "outputId": "7daa83b4-92c6-4b33-adb6-fbfa53c92334"
      },
      "execution_count": null,
      "outputs": [
        {
          "output_type": "execute_result",
          "data": {
            "text/plain": [
              "array([[ 83.073 ,  78.546 ,  77.1435],\n",
              "       [ 94.7767, 110.5431, 171.4738],\n",
              "       [ 89.9726, 153.2023, 222.962 ],\n",
              "       ...,\n",
              "       [184.461 , 175.2864, 181.3168],\n",
              "       [108.5586, 150.9159, 158.3554],\n",
              "       [187.0258, 209.3233, 221.4341]])"
            ]
          },
          "metadata": {},
          "execution_count": 39
        }
      ]
    },
    {
      "cell_type": "code",
      "source": [
        "from sklearn.neighbors import KNeighborsClassifier\n",
        "model = KNeighborsClassifier(n_neighbors = 7)\n",
        "model.fit(x_train,y_train)\n",
        "y_pred = model.predict(x_test)\n",
        "y_pred"
      ],
      "metadata": {
        "colab": {
          "base_uri": "https://localhost:8080/"
        },
        "id": "bQzpLfuVSHom",
        "outputId": "d6037d74-0c39-47c1-b6e4-738fa7d7a56f"
      },
      "execution_count": null,
      "outputs": [
        {
          "output_type": "execute_result",
          "data": {
            "text/plain": [
              "array(['Grape Blue', 'Tomato 1', 'Tomato Yellow', ..., 'Dates',\n",
              "       'Apple Red Yellow 2', 'Pepino'], dtype=object)"
            ]
          },
          "metadata": {},
          "execution_count": 48
        }
      ]
    },
    {
      "cell_type": "code",
      "source": [
        "y_test"
      ],
      "metadata": {
        "colab": {
          "base_uri": "https://localhost:8080/"
        },
        "id": "b1uG06xdSO5Y",
        "outputId": "69f0aeae-df69-4ba1-c1c3-b1737eb2bbc1"
      },
      "execution_count": null,
      "outputs": [
        {
          "output_type": "execute_result",
          "data": {
            "text/plain": [
              "array(['Grape Blue', 'Tomato 1', 'Tomato Yellow', ..., 'Dates',\n",
              "       'Apple Red Yellow 2', 'Pepino'], dtype=object)"
            ]
          },
          "metadata": {},
          "execution_count": 49
        }
      ]
    },
    {
      "cell_type": "code",
      "source": [
        "from sklearn.metrics import accuracy_score,confusion_matrix\n",
        "accuracy_score(y_pred,y_test)*100\n",
        "confusion_matrix(y_pred,y_test)\n",
        "model.score(x_test,y_test)*100"
      ],
      "metadata": {
        "colab": {
          "base_uri": "https://localhost:8080/"
        },
        "id": "w-NLTd-oSVTo",
        "outputId": "5ae1e951-205d-4f06-a041-1f37f2a46896"
      },
      "execution_count": null,
      "outputs": [
        {
          "output_type": "execute_result",
          "data": {
            "text/plain": [
              "90.50736497545007"
            ]
          },
          "metadata": {},
          "execution_count": 50
        }
      ]
    },
    {
      "cell_type": "code",
      "source": [
        "from sklearn.metrics import classification_report\n",
        "print(classification_report(y_pred,y_test))"
      ],
      "metadata": {
        "colab": {
          "base_uri": "https://localhost:8080/"
        },
        "id": "Fo-68awISeSH",
        "outputId": "6c9af2e2-e028-44e6-d093-3ed303855fb4"
      },
      "execution_count": null,
      "outputs": [
        {
          "output_type": "stream",
          "name": "stdout",
          "text": [
            "                     precision    recall  f1-score   support\n",
            "\n",
            "     Apple Braeburn       0.90      0.75      0.82       135\n",
            " Apple Crimson Snow       0.72      0.80      0.76       116\n",
            "     Apple Golden 1       1.00      0.92      0.96       103\n",
            "     Apple Golden 2       0.96      0.95      0.95       114\n",
            "     Apple Golden 3       0.98      0.94      0.96       138\n",
            " Apple Granny Smith       0.99      0.95      0.97       120\n",
            "    Apple Pink Lady       0.86      0.81      0.84       108\n",
            "        Apple Red 1       0.87      0.92      0.89       109\n",
            "        Apple Red 2       0.98      0.87      0.92       148\n",
            "        Apple Red 3       0.91      0.81      0.86       107\n",
            "Apple Red Delicious       0.93      0.85      0.88       131\n",
            " Apple Red Yellow 1       0.83      0.77      0.80       110\n",
            " Apple Red Yellow 2       0.85      0.94      0.89       155\n",
            "            Apricot       0.97      0.92      0.94       147\n",
            "            Avocado       0.96      0.83      0.89       113\n",
            "       Avocado ripe       0.97      0.96      0.96       135\n",
            "             Banana       0.61      0.79      0.69       100\n",
            " Banana Lady Finger       0.64      0.96      0.77        75\n",
            "         Banana Red       0.78      0.94      0.85       100\n",
            "           Beetroot       0.88      0.96      0.92       103\n",
            "          Blueberry       0.91      0.96      0.93       120\n",
            "       Cactus fruit       0.70      0.65      0.68       123\n",
            "       Cantaloupe 1       1.00      1.00      1.00       132\n",
            "       Cantaloupe 2       1.00      0.90      0.95       153\n",
            "          Carambula       0.77      0.92      0.84        99\n",
            "        Cauliflower       0.98      0.95      0.96       184\n",
            "           Cherry 1       0.96      0.84      0.90       132\n",
            "           Cherry 2       0.96      0.94      0.95       162\n",
            "     Cherry Rainier       0.95      0.92      0.94       172\n",
            "   Cherry Wax Black       1.00      1.00      1.00       130\n",
            "     Cherry Wax Red       1.00      0.99      1.00       115\n",
            "  Cherry Wax Yellow       1.00      0.98      0.99       124\n",
            "           Chestnut       0.73      0.87      0.79        97\n",
            "         Clementine       1.00      1.00      1.00       127\n",
            "              Cocos       0.92      0.89      0.90       141\n",
            "               Corn       0.87      0.81      0.84       110\n",
            "          Corn Husk       0.99      1.00      0.99        98\n",
            "      Cucumber Ripe       0.83      0.75      0.79        97\n",
            "    Cucumber Ripe 2       0.82      0.95      0.88       111\n",
            "              Dates       0.93      0.98      0.96       119\n",
            "           Eggplant       0.88      0.97      0.92        89\n",
            "                Fig       0.99      0.94      0.96       172\n",
            "        Ginger Root       0.84      0.82      0.83        72\n",
            "         Granadilla       0.96      0.99      0.98       105\n",
            "         Grape Blue       0.98      0.96      0.97       256\n",
            "         Grape Pink       0.93      0.84      0.88       122\n",
            "        Grape White       1.00      1.00      1.00       125\n",
            "      Grape White 2       0.99      0.96      0.98       139\n",
            "      Grape White 3       0.97      0.97      0.97       120\n",
            "      Grape White 4       1.00      1.00      1.00       117\n",
            "    Grapefruit Pink       1.00      0.99      1.00       130\n",
            "   Grapefruit White       1.00      1.00      1.00       130\n",
            "              Guava       0.97      0.86      0.91       140\n",
            "           Hazelnut       0.96      0.91      0.93       138\n",
            "        Huckleberry       1.00      1.00      1.00       125\n",
            "               Kaki       0.91      0.91      0.91       114\n",
            "               Kiwi       0.93      0.85      0.89       136\n",
            "           Kohlrabi       1.00      0.96      0.98       114\n",
            "           Kumquats       0.96      0.98      0.97       111\n",
            "              Lemon       0.88      0.92      0.90       100\n",
            "        Lemon Meyer       1.00      1.00      1.00       118\n",
            "              Limes       0.96      0.98      0.97       122\n",
            "             Lychee       0.95      0.95      0.95       130\n",
            "          Mandarine       0.98      0.92      0.95       128\n",
            "              Mango       0.96      0.90      0.93       147\n",
            "          Mango Red       0.69      0.81      0.75        96\n",
            "          Mangostan       0.95      0.71      0.82        84\n",
            "           Maracuja       0.99      0.94      0.96       144\n",
            " Melon Piel de Sapo       0.94      0.96      0.95       194\n",
            "           Mulberry       0.96      0.99      0.98       132\n",
            "          Nectarine       0.69      0.75      0.72       117\n",
            "     Nectarine Flat       0.53      0.85      0.66        68\n",
            "         Nut Forest       1.00      1.00      1.00       182\n",
            "          Nut Pecan       0.69      0.92      0.79       106\n",
            "          Onion Red       0.57      0.63      0.60        93\n",
            "   Onion Red Peeled       1.00      0.95      0.97       118\n",
            "        Onion White       0.90      0.84      0.87       102\n",
            "             Orange       1.00      1.00      1.00       133\n",
            "             Papaya       0.81      0.78      0.80       129\n",
            "      Passion Fruit       0.99      0.99      0.99       112\n",
            "              Peach       0.84      0.87      0.86       125\n",
            "            Peach 2       0.96      0.97      0.97       195\n",
            "         Peach Flat       0.70      0.62      0.66       121\n",
            "               Pear       0.89      0.82      0.85       120\n",
            "             Pear 2       0.75      0.74      0.74       175\n",
            "         Pear Abate       0.88      0.90      0.89       125\n",
            "       Pear Forelle       0.82      0.84      0.83       160\n",
            "        Pear Kaiser       0.88      0.99      0.93        72\n",
            "       Pear Monster       0.82      0.99      0.90       106\n",
            "           Pear Red       0.90      0.96      0.93       142\n",
            "         Pear Stone       0.89      0.93      0.91       179\n",
            "      Pear Williams       0.76      0.81      0.79       112\n",
            "             Pepino       0.93      0.91      0.92       117\n",
            "       Pepper Green       0.99      0.93      0.96       122\n",
            "      Pepper Orange       0.82      0.92      0.87       172\n",
            "         Pepper Red       0.88      0.84      0.86       153\n",
            "      Pepper Yellow       0.98      1.00      0.99       188\n",
            "           Physalis       0.98      1.00      0.99       129\n",
            " Physalis with Husk       0.73      0.69      0.71       112\n",
            "          Pineapple       0.94      0.89      0.92       128\n",
            "     Pineapple Mini       0.92      0.86      0.89       132\n",
            "       Pitahaya Red       0.90      0.97      0.94       111\n",
            "               Plum       0.87      0.97      0.92        93\n",
            "             Plum 2       1.00      0.99      1.00       105\n",
            "             Plum 3       0.96      0.94      0.95       209\n",
            "        Pomegranate       0.83      0.76      0.79       155\n",
            "     Pomelo Sweetie       0.91      1.00      0.95        92\n",
            "        Potatao Red       0.80      0.83      0.81       115\n",
            " Potatao Red Washed       0.78      0.94      0.85       100\n",
            "      Potatao Sweet       0.85      0.88      0.86       123\n",
            "      Potatao White       0.74      0.70      0.72       120\n",
            "             Quince       1.00      1.00      1.00       137\n",
            "           Rambutan       0.96      0.92      0.94       138\n",
            "          Raspberry       1.00      1.00      1.00       116\n",
            "         Redcurrant       1.00      1.00      1.00       139\n",
            "              Salak       0.82      0.87      0.84       124\n",
            "         Strawberry       0.69      0.70      0.70       104\n",
            "   Strawberry Wedge       0.95      0.82      0.88       446\n",
            "          Tamarillo       0.86      0.92      0.89       106\n",
            "            Tangelo       0.99      0.97      0.98       134\n",
            "           Tomato 1       0.90      0.88      0.89       197\n",
            "           Tomato 2       0.82      0.92      0.86       142\n",
            "           Tomato 3       0.81      0.83      0.82       184\n",
            "           Tomato 4       1.00      0.90      0.95       141\n",
            "  Tomato Cherry Red       1.00      1.00      1.00       118\n",
            "       Tomato Heart       0.95      0.86      0.90       201\n",
            "      Tomato Maroon       0.99      0.91      0.95       107\n",
            "      Tomato Yellow       1.00      0.98      0.99       126\n",
            " Tomato not Ripened       0.90      0.99      0.94        93\n",
            "             Walnut       0.99      0.91      0.95       197\n",
            "         Watermelon       0.91      0.94      0.93       127\n",
            "\n",
            "           accuracy                           0.91     17108\n",
            "          macro avg       0.90      0.90      0.90     17108\n",
            "       weighted avg       0.91      0.91      0.91     17108\n",
            "\n"
          ]
        }
      ]
    }
  ],
  "metadata": {
    "colab": {
      "name": "KNN_1.ipynb",
      "provenance": []
    },
    "kernelspec": {
      "display_name": "Python 3",
      "name": "python3"
    },
    "language_info": {
      "name": "python"
    }
  },
  "nbformat": 4,
  "nbformat_minor": 0
}